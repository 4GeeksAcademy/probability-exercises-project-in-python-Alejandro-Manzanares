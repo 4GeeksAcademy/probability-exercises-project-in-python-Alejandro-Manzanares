{
 "cells": [
  {
   "cell_type": "markdown",
   "id": "a41f3622",
   "metadata": {},
   "source": [
    "# Ejercicios de probabilidad"
   ]
  },
  {
   "cell_type": "markdown",
   "id": "a6bdbd89",
   "metadata": {},
   "source": [
    "## Ejercicio 1 \n",
    "\n",
    "Dos dados se lanzan una vez y se observa el total obtenido. Usa una simulación para encontrar la probabilidad estimada de que la puntuación sea mayor a 7 o un número par. Una simulación es una repetición del mismo experimento multiples veces para observar su comportamiento:\n",
    "\n",
    "- Ejecuta el experimento 1000 veces (lanza 2 dados 1000 veces, y suma el número de ambos dados).\n",
    "- Lleva ua cuenta de los números y las veces que la suma fue mayor a 7 o un número par.\n",
    "- Divide el número del paso 2 entre el número de iteraciones(1000)."
   ]
  },
  {
   "cell_type": "code",
   "execution_count": 13,
   "id": "8939d892",
   "metadata": {},
   "outputs": [
    {
     "name": "stdout",
     "output_type": "stream",
     "text": [
      "The probability of rolling an even number or bigger than 7 is: 66.63%\n"
     ]
    }
   ],
   "source": [
    "# TODO\n",
    "import random\n",
    "\n",
    "\n",
    "\n",
    "cuenta = 0 #contador de la cuenta empeiza en cero\n",
    "tiradas = 1001 #total number of outcome\n",
    "for tirada in range (tiradas): #Ejecutar la operación 1000 veces\n",
    "    dice_1 = random.randint(1,6)\n",
    "    dice_2 = random.randint(1,6)\n",
    "    suma = dice_1+dice_2\n",
    "    #Paso 2\n",
    "    if suma>7 or suma%2==0:\n",
    "        cuenta +=1 #favorable outcomes \n",
    "\n",
    "probability = cuenta/tiradas #calcular la probabilidad\n",
    "\n",
    "print (f\"The probability of rolling an even number or bigger than 7 is: {round(probability*100,2)}%\")\n"
   ]
  },
  {
   "cell_type": "markdown",
   "id": "55732bca",
   "metadata": {},
   "source": [
    "## Ejercicio 2\n",
    "\n",
    "Una caja contiene 10 bolas blancas, 20 bolas rojas y 30 bolas verdes. Si tomamos 5 bolas de la caja reemplazándolas (tomando una bola, anotando el color y luego regresandola a la caja). Queremos saber la probabilidad de:\n",
    "\n",
    "1. Tomar 3 blancas y 2 rojas.\n",
    "2. Toas todas del mismo color.\n",
    "\n",
    "Ejecuta el experimento 1000 veces y calcula las probabilidades que mencionadas."
   ]
  },
  {
   "cell_type": "code",
   "execution_count": 55,
   "id": "23244d20",
   "metadata": {},
   "outputs": [
    {
     "name": "stdout",
     "output_type": "stream",
     "text": [
      "{0: 'White', 1: 'White', 2: 'White', 3: 'White', 4: 'White', 5: 'White', 6: 'White', 7: 'White', 8: 'White', 9: 'White', 10: 'Red', 11: 'Red', 12: 'Red', 13: 'Red', 14: 'Red', 15: 'Red', 16: 'Red', 17: 'Red', 18: 'Red', 19: 'Red', 20: 'Red', 21: 'Red', 22: 'Red', 23: 'Red', 24: 'Red', 25: 'Red', 26: 'Red', 27: 'Red', 28: 'Red', 29: 'Red', 30: 'Green', 31: 'Green', 32: 'Green', 33: 'Green', 34: 'Green', 35: 'Green', 36: 'Green', 37: 'Green', 38: 'Green', 39: 'Green', 40: 'Green', 41: 'Green', 42: 'Green', 43: 'Green', 44: 'Green', 45: 'Green', 46: 'Green', 47: 'Green', 48: 'Green', 49: 'Green', 50: 'Green', 51: 'Green', 52: 'Green', 53: 'Green', 54: 'Green', 55: 'Green', 56: 'Green', 57: 'Green', 58: 'Green', 59: 'Green'} \n",
      "\n",
      "The probability that 3 white and 2 red dice will come out is: 0.5%\n",
      "The probability that all the balls are the same is: 2.4%\n"
     ]
    }
   ],
   "source": [
    "ball_box = {}\n",
    "\n",
    "# Crea la cajas con las bolas\n",
    "for i in range(60):\n",
    "    if i < 10:\n",
    "        ball_box[i] = \"White\"\n",
    "    elif (i > 9) and (i < 30):\n",
    "        ball_box[i] = \"Red\"\n",
    "    else:\n",
    "        ball_box[i] = \"Green\"\n",
    "\n",
    "print(f\"{ball_box} \\n\")          \n",
    "# TODO\n",
    "import random\n",
    "import numpy as np\n",
    "tiradas = 1001\n",
    "cont_white = 0\n",
    "cont_red = 0\n",
    "cont_wh_red = 0\n",
    "cont_all_same = 0\n",
    "\n",
    "for tirada in range(tiradas):\n",
    "    dice_1 = random.choice(list(ball_box.values()))\n",
    "    dice_2 = random.choice(list(ball_box.values()))\n",
    "    dice_3 = random.choice(list(ball_box.values()))\n",
    "    dice_4 = random.choice(list(ball_box.values()))\n",
    "    dice_5 = random.choice(list(ball_box.values()))\n",
    "    colors_dices = [dice_1,dice_2,dice_3,dice_4,dice_5]\n",
    "    #Contadores\n",
    "    cont_white = colors_dices.count(\"White\")\n",
    "    cont_red = colors_dices.count(\"Red\")\n",
    "    cont_green = colors_dices.count(\"Green\")\n",
    "\n",
    "    if (cont_white==3) and (cont_red==2):\n",
    "        cont_wh_red +=1\n",
    "    elif (cont_white==5) or (cont_red==5) or (cont_green==5):\n",
    "        cont_all_same +=1\n",
    "    \n",
    "probability_wh_red = cont_wh_red / tiradas\n",
    "probability_all_same = cont_all_same / tiradas\n",
    "\n",
    "print(f\"The probability that 3 white and 2 red dice will come out is: {round(probability_wh_red*100,2)}%\")\n",
    "print(f\"The probability that all the balls are the same is: {round(probability_all_same*100,2)}%\")"
   ]
  },
  {
   "cell_type": "code",
   "execution_count": 3,
   "id": "6488018c",
   "metadata": {},
   "outputs": [
    {
     "name": "stdout",
     "output_type": "stream",
     "text": [
      "La probabilidad de que salgan dos caras es: 37.7%\n",
      "\n",
      "La probabilidad de que salgan todo caras o cruces: 23.8%\n"
     ]
    }
   ],
   "source": [
    "'''Ejericio inventado\n",
    "Lanzamiento de monedas\n",
    "Tres monedas son lanzadas simultáneamente, y registramos los resultados de cada lanzamiento (cara o cruz). \n",
    "Usa una simulación para encontrar la probabilidad estimada de los siguientes eventos:\n",
    "\n",
    "Obtener exactamente dos caras.\n",
    "Obtener todas caras o todas cruces\n",
    "\n",
    "Instrucciones:\n",
    "\n",
    "Ejecuta el experimento 1000 veces (lanza 3 monedas 1000 veces).\n",
    "Lleva una cuenta de los resultados para cada evento.\n",
    "Divide el número de éxitos por el número total de iteraciones para calcular la probabilidad estimada.'''\n",
    "\n",
    "import random\n",
    "import numpy as np\n",
    "moneda = (\"cara\",\"cruz\")\n",
    "\n",
    "simulations = 1000\n",
    "\n",
    "def tirar_monedas (simulations):\n",
    "    lados_moneda = []\n",
    "    cont_cara = 0\n",
    "    cont_tres_iguales = 0\n",
    "\n",
    "    for i in range (simulations):\n",
    "        moneda_1 = random.choice(moneda)\n",
    "        moneda_2 = random.choice(moneda)\n",
    "        moneda_3 = random.choice(moneda)\n",
    "        lados_moneda = [moneda_1, moneda_2, moneda_3]\n",
    "        #Contar numero de veces que hay caras y cruces\n",
    "        cara = lados_moneda.count(\"cara\")\n",
    "        cruz = lados_moneda.count(\"cruz\")\n",
    "        if cara == 2:\n",
    "            cont_cara +=1\n",
    "        elif (cara == 3) or (cruz == 3):\n",
    "            cont_tres_iguales +=1\n",
    "    \n",
    "    return cont_cara/simulations, cont_tres_iguales/simulations\n",
    "probabilities = tirar_monedas(simulations)\n",
    "\n",
    "print(f\"La probabilidad de que salgan dos caras es: {round(probabilities[0] * 100, 2)}%\\n\")\n",
    "print(f\"La probabilidad de que salgan todo caras o cruces: {round(probabilities[1] * 100, 2)}%\")"
   ]
  },
  {
   "cell_type": "code",
   "execution_count": 13,
   "id": "19a3f866",
   "metadata": {},
   "outputs": [
    {
     "name": "stdout",
     "output_type": "stream",
     "text": [
      "La probabilidad de que salga 9 y numero impar es: 6.5%\n"
     ]
    }
   ],
   "source": [
    "'''Ejercicio 1.2 inventado: Lanzamiento de dados y número impar\n",
    "Dos dados son lanzados, y se registra la suma obtenida. \n",
    "Usa una simulación para calcular la probabilidad estimada de los siguientes eventos:\n",
    "\n",
    "Que la suma sea mayor a 9.\n",
    "Que la suma sea impar.\n",
    "Instrucciones:\n",
    "\n",
    "Ejecuta el experimento 1000 veces.\n",
    "Lleva una cuenta de los éxitos en cada evento.\n",
    "Calcula las probabilidades como en los ejercicios anteriores.'''\n",
    "\n",
    "import random \n",
    "\n",
    "simulations = 1000\n",
    "def lanzamiento_dados(simulations):\n",
    "    cont_dices = 0\n",
    "    for i in range(simulations):\n",
    "        dice_1 = random.randint(1,6)\n",
    "        dice_2 = random.randint(1,6)\n",
    "        sum_dice = dice_1 + dice_2\n",
    "        if (sum_dice>9) and (sum_dice%2 != 0):\n",
    "            cont_dices += 1\n",
    "    return cont_dices/simulations \n",
    "probabilities = lanzamiento_dados(simulations)\n",
    "\n",
    "print(f\"La probabilidad de que salga 9 y numero impar es: {round(probabilities*100,2)}%\")\n"
   ]
  },
  {
   "cell_type": "code",
   "execution_count": 35,
   "id": "6200d330",
   "metadata": {},
   "outputs": [
    {
     "name": "stdout",
     "output_type": "stream",
     "text": [
      "{0: 'Blue', 1: 'Blue', 2: 'Blue', 3: 'Blue', 4: 'Blue', 5: 'Blue', 6: 'Blue', 7: 'Blue', 8: 'Yellow', 9: 'Yellow', 10: 'Yellow', 11: 'Yellow', 12: 'Yellow', 13: 'Yellow', 14: 'Yellow', 15: 'Yellow', 16: 'Yellow', 17: 'Yellow', 18: 'Yellow', 19: 'Yellow', 20: 'Black', 21: 'Black', 22: 'Black', 23: 'Black', 24: 'Black', 25: 'Black', 26: 'Black', 27: 'Black', 28: 'Black', 29: 'Black'}\n",
      "La probabilidad de que salgan dos bolas azules y dos amarillas es: 7.1%\n",
      "\n",
      "La probabilidad de que todas las bolas sean diferentes es: 0.0%\n"
     ]
    }
   ],
   "source": [
    "'''Ejercicio 2.1 inventado: Extracción de bolas sin reemplazo\n",
    "Una caja contiene 8 bolas azules, 12 bolas amarillas y 10 bolas negras. \n",
    "Si tomamos 4 bolas de la caja sin reemplazarlas (es decir, no se devuelven \n",
    "las bolas), calcula las probabilidades de los siguientes eventos mediante simulación:\n",
    "\n",
    "Obtener 2 bolas azules y 2 bolas amarillas.\n",
    "Que todas las bolas sean de diferentes colores.\n",
    "Instrucciones:\n",
    "\n",
    "Ejecuta el experimento 1000 veces.\n",
    "Lleva una cuenta de las veces que ocurre cada evento.\n",
    "Calcula las probabilidades dividiendo los éxitos entre el total de iteraciones.'''\n",
    "\n",
    "import random\n",
    "ball_box = {}\n",
    "\n",
    "# Crea la cajas con las bolas\n",
    "for i in range(30):\n",
    "    if i < 8:\n",
    "        ball_box[i] = \"Blue\"\n",
    "    elif (i >= 8) and (i < 20):\n",
    "        ball_box[i] = \"Yellow\"\n",
    "    else:\n",
    "        ball_box[i] = \"Black\"\n",
    "\n",
    "print(ball_box)\n",
    "simulations = 1000\n",
    "def getting_balls(simulations):\n",
    "    cont_ye_blue = 0\n",
    "    cont_diff = 0\n",
    "    for i in range (simulations):\n",
    "        colors = []\n",
    "        # Take 4 balls from the box\n",
    "        for i in range(4):\n",
    "            colors.append(ball_box[random.randint(0,29)])\n",
    "        cont_yellow = colors.count(\"Yellow\")\n",
    "        cont_Blue = colors.count(\"Blue\")\n",
    "        cont_Black = colors.count(\"Black\")\n",
    "\n",
    "        # Decide if we should add it to the count:\n",
    "        if (cont_Blue == 2) and (cont_yellow == 2):\n",
    "            cont_ye_blue +=1\n",
    "        elif (cont_Blue==1) and (cont_yellow==1) and (cont_Black==1):\n",
    "            cont_diff +=1  \n",
    "\n",
    "    return cont_ye_blue/simulations, cont_diff/simulations\n",
    "\n",
    "probability = getting_balls(simulations)\n",
    "\n",
    "print(f\"La probabilidad de que salgan dos bolas azules y dos amarillas es: {round(probability[0]*100,2)}%\\n\")\n",
    "print(f\"La probabilidad de que todas las bolas sean diferentes es: {round(probability[1]*100,2)}%\")"
   ]
  },
  {
   "cell_type": "code",
   "execution_count": 20,
   "id": "9f3c1e90",
   "metadata": {},
   "outputs": [
    {
     "name": "stdout",
     "output_type": "stream",
     "text": [
      "['White', 'White', 'White', 'White', 'White', 'Red', 'Red', 'Red', 'Red', 'Red', 'Red', 'Red', 'Red', 'Red', 'Red', 'Green', 'Green', 'Green', 'Green', 'Green', 'Green', 'Green', 'Green', 'Green', 'Green', 'Green', 'Green', 'Green', 'Green', 'Green', 'Blue', 'Blue', 'Blue', 'Blue', 'Blue', 'Blue', 'Blue', 'Blue', 'Blue', 'Blue', 'Blue', 'Blue', 'Blue', 'Blue', 'Blue', 'Blue', 'Blue', 'Blue', 'Blue', 'Blue']\n",
      "The probability of getting two white balls and two red balls and two green balls is: 0.6% \n",
      " \n",
      "The probability of all balls being of different colors is: 0.0%\n"
     ]
    }
   ],
   "source": [
    "'''Ejercicio 2.2 inventado: Extracción con colores adicionales\n",
    "Una caja contiene bolas de 4 colores:\n",
    "\n",
    "5 bolas blancas,\n",
    "10 bolas rojas,\n",
    "15 bolas verdes,\n",
    "20 bolas azules.\n",
    "Se extraen 6 bolas reemplazándolas después de cada extracción. \n",
    "Calcula mediante simulación las probabilidades de los siguientes eventos:\n",
    "\n",
    "Obtener exactamente 2 bolas blancas, 2 bolas rojas y 2 bolas verdes.\n",
    "Obtener todas las bolas del mismo color.\n",
    "Instrucciones:\n",
    "\n",
    "Ejecuta el experimento 1000 veces.\n",
    "Lleva una cuenta de los éxitos.\n",
    "Divide los éxitos entre el número total de iteraciones.'''\n",
    "\n",
    "import random\n",
    "\n",
    "#Creat the box with the balls\n",
    "ball_box = [\"White\"]*5 + [\"Red\"]*10 + [\"Green\"]*15 + [\"Blue\"]*20 \n",
    "print(ball_box)\n",
    "\n",
    "simulations = 1000\n",
    "balls = 6\n",
    "def getting_balls(simulations):\n",
    "    colors = []\n",
    "    count_1 = 0\n",
    "    count_2 = 0\n",
    "    for i in range(simulations):\n",
    "        #Shuffle the box and take 4 balls\n",
    "        random.shuffle(ball_box)\n",
    "        colors = random.sample(ball_box,6)\n",
    "\n",
    "        count_white = colors.count(\"White\")\n",
    "        count_red = colors.count(\"Red\")\n",
    "        count_green = colors.count(\"Green\")\n",
    "        count_blue = colors.count(\"Blue\")\n",
    "        # Decide if we should add it to the count:\n",
    "        if (count_white == 2) and (count_red==2) and (count_green==2):\n",
    "            count_1 +=1\n",
    "        elif (count_white ==6) or (count_red==6) or (count_green==6) or (count_blue==6):\n",
    "            count_2 +=1\n",
    "    return count_1/simulations, count_2/simulations\n",
    "probability = getting_balls(simulations)\n",
    "\n",
    "print(f\"The probability of getting two white balls and two red balls and two green balls is: {round(probability[0]*100,2)}% \\n \")\n",
    "print(f\"The probability of all balls being of different colors is: {round(probability[1]*100,2)}%\")\n"
   ]
  }
 ],
 "metadata": {
  "kernelspec": {
   "display_name": "Python 3",
   "language": "python",
   "name": "python3"
  },
  "language_info": {
   "codemirror_mode": {
    "name": "ipython",
    "version": 3
   },
   "file_extension": ".py",
   "mimetype": "text/x-python",
   "name": "python",
   "nbconvert_exporter": "python",
   "pygments_lexer": "ipython3",
   "version": "3.11.4"
  }
 },
 "nbformat": 4,
 "nbformat_minor": 5
}
